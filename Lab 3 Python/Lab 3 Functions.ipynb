{
 "cells": [
  {
   "cell_type": "code",
   "execution_count": 3,
   "metadata": {},
   "outputs": [],
   "source": [
    "def greeting(name):\n",
    "    return f\"Hello, {name} how are you doing today?\""
   ]
  },
  {
   "cell_type": "code",
   "execution_count": 4,
   "metadata": {},
   "outputs": [
    {
     "name": "stdout",
     "output_type": "stream",
     "text": [
      "Hermann is in the list\n",
      "Hello, Hermann how are you doing today?\n"
     ]
    }
   ],
   "source": [
    "# This code import the built-in module my_module\n",
    "import my_module\n",
    "\n",
    "def is_name_in_list(name, name_list):\n",
    "    return name in name_list\n",
    "\n",
    "if __name__ == \"__main__\":\n",
    "    names = [\"Hermann\", \"Mike\", \"John\", \"Bob\"]\n",
    "    name_to_check = \"Hermann\"\n",
    "\n",
    "    if is_name_in_list(name_to_check, names):\n",
    "        print(f\"{name_to_check} is in the list\")\n",
    "        print(greeting(name_to_check))\n",
    "    else:\n",
    "        print(f\"{name_to_check} is not in the list\")\n",
    "    \n"
   ]
  },
  {
   "cell_type": "markdown",
   "metadata": {},
   "source": [
    "\n",
    "\n",
    "# Main Lab\n",
    "\n",
    "Take time to begin working with your partner on your project. Begin to plan out how you would like your game to feel. Remember this is a text-based game. This can be any game you would like \n",
    "\n",
    "    Please stay away from games or software like poker or 21 as these tend to be boring to code and hard to add more to later on, and obviously games that may get you reported by the university.\n",
    "\n",
    "\n",
    "## Part 1:\n",
    "\n",
    "Divide up your code and begin  writing the code.\n",
    "\n",
    "Keep in mind that when you write your code you will need to be interfacing with your partners code, loading in your player, tools/items/etc, interfacing with the world, monsters and so on. So plan accordingly.\n",
    "\n",
    "\n",
    "While we have not gotten to classes take some time to try and code some simple classes. \n",
    "Here is an example:\n",
    "```python \n",
    "\n",
    "#Good\n",
    "class Sharps(object):\n",
    "    \"\"\"Create a sharp weapon\"\"\"\n",
    "    def __init__(self, name, length, age=1, damage=0):\n",
    "        \"\"\" Initialize name, age, and length damage attributes.\"\"\"\n",
    "        self.name = name\n",
    "        self.age = age\n",
    "        self.length = length\n",
    "        self.damage = damage\n",
    "    def do_damage(self, target):\n",
    "        target = target - self.damage\n",
    "\n",
    "class dager(Sharps):\n",
    "    \"\"\" makes a dager\"\"\"\n",
    "    def __init__(self, name, length, age=1, damage=0):\n",
    "        \"\"\"sets up a dagger\"\"\"\n",
    "        super().__init__(self, name, length, age, damage))\n",
    "        self.poision = True\n",
    "```\n",
    "        \n",
    "\n",
    "\n"
   ]
  }
 ],
 "metadata": {
  "kernelspec": {
   "display_name": "base",
   "language": "python",
   "name": "python3"
  },
  "language_info": {
   "codemirror_mode": {
    "name": "ipython",
    "version": 3
   },
   "file_extension": ".py",
   "mimetype": "text/x-python",
   "name": "python",
   "nbconvert_exporter": "python",
   "pygments_lexer": "ipython3",
   "version": "3.12.7"
  }
 },
 "nbformat": 4,
 "nbformat_minor": 2
}
