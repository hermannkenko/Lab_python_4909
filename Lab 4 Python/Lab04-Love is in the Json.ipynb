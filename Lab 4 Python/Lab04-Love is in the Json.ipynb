{
 "cells": [
  {
   "cell_type": "markdown",
   "metadata": {},
   "source": [
    "# Valentine's Day Lab Assignment\n",
    "Picking a Romantic Movie\n",
    "\n",
    "## Instructions:\n",
    "1. Download a dataset of romantic movies from a public dataset repository (e.g., Kaggle).\n",
    "   - Example dataset: \"Romantic Movies Dataset\" (ensure it's in JSON format).\n",
    "2. Load the dataset from the JSON file.\n",
    "3. Create a function that helps pick a romantic movie based on user preferences.\n",
    "4. Display the selected movie details.\n",
    "5. Verify the JSON file content\n",
    "\n"
   ]
  },
  {
   "cell_type": "code",
   "execution_count": null,
   "metadata": {},
   "outputs": [],
   "source": [
    "# Sample Code:\n",
    "min_rating = float(input(\"Enter the minimum rating (0-10): \"))\n",
    "max_year = int(input(\"Enter the latest release year: \"))\n",
    "\n",
    "selected_movie = pick_movie(data, min_rating, max_year)\n",
    "\n",
    "if isinstance(selected_movie, str):\n",
    "    print(selected_movie)\n",
    "else:\n",
    "    print(f\"Selected Movie: {selected_movie['Title']}\")\n",
    "    print(f\"Year: {selected_movie['Year']}\")\n",
    "    print(f\"Rating: {selected_movie['Rating']}\")\n",
    "    print(f\"Box Office: ${selected_movie['BoxOffice']} million\")"
   ]
  },
  {
   "cell_type": "markdown",
   "metadata": {},
   "source": [
    "Professor I couldn't fing a Json version file and the one I have is ipynb and causing error when running "
   ]
  },
  {
   "cell_type": "code",
   "execution_count": null,
   "metadata": {},
   "outputs": [
    {
     "ename": "SyntaxError",
     "evalue": "(unicode error) 'unicodeescape' codec can't decode bytes in position 2-3: truncated \\UXXXXXXXX escape (3747315203.py, line 46)",
     "output_type": "error",
     "traceback": [
      "\u001b[1;36m  Cell \u001b[1;32mIn[10], line 46\u001b[1;36m\u001b[0m\n\u001b[1;33m    movies = load_dataset('C:\\Users\\kenko\\Downloads\\movie-recommender-systems.ipynb')\u001b[0m\n\u001b[1;37m                          ^\u001b[0m\n\u001b[1;31mSyntaxError\u001b[0m\u001b[1;31m:\u001b[0m (unicode error) 'unicodeescape' codec can't decode bytes in position 2-3: truncated \\UXXXXXXXX escape\n"
     ]
    }
   ],
   "source": [
    "import json\n",
    "import random\n",
    "\n",
    "# Load the dataset from a JSON file\n",
    "def load_dataset(filename):\n",
    "    with open(filename, 'r') as file:\n",
    "        data = json.load(file)\n",
    "    return data\n",
    "\n",
    "# Function to pick a romantic movie based on preferences\n",
    "def pick_movie(movies, year_range=None, rating_range=None, director=None):\n",
    "    if year_range:\n",
    "        movies = [movie for movie in movies if year_range[0] <= movie.get('year', 0) <= year_range[1]]\n",
    "    \n",
    "    if rating_range:\n",
    "        movies = [movie for movie in movies if rating_range[0] <= movie.get('rating', 0) <= rating_range[1]]\n",
    "    \n",
    "    if director:\n",
    "        movies = [movie for movie in movies if movie.get('director', '').lower() == director.lower()]\n",
    "\n",
    "    if not movies:\n",
    "        return \"No movies found with these preferences.\"\n",
    "\n",
    "    selected_movie = random.choice(movies)\n",
    "    return selected_movie\n",
    "\n",
    "# Function to display movie details\n",
    "def display_movie_details(movie):\n",
    "    if isinstance(movie, dict):\n",
    "        print(f\"Title: {movie.get('title', 'N/A')}\")\n",
    "        print(f\"Year: {movie.get('year', 'N/A')}\")\n",
    "        print(f\"Rating: {movie.get('rating', 'N/A')}\")\n",
    "        print(f\"Director: {movie.get('director', 'N/A')}\")\n",
    "        print(f\"Summary: {movie.get('summary', 'No summary available')}\")\n",
    "    else:\n",
    "        print(movie)\n",
    "\n",
    "# Verify JSON structure\n",
    "def verify_json_structure(movies):\n",
    "    if len(movies) > 0:\n",
    "        print(\"Sample movie entry:\", movies[0])\n",
    "    else:\n",
    "        print(\"No data found in the JSON file.\")\n",
    "\n",
    "# Main execution\n",
    "movies = load_dataset('C:\\Users\\kenko\\Downloads\\movie-recommender-systems.ipynb')\n",
    "verify_json_structure(movies)\n",
    "\n",
    "user_preferences = {\n",
    "    'year_range': (2000, 2020),\n",
    "    'rating_range': (7, 10),\n",
    "    'director': 'Nora Ephron'\n",
    "}\n",
    "\n",
    "movie = pick_movie(movies, **user_preferences)\n",
    "display_movie_details(movie)\n"
   ]
  }
 ],
 "metadata": {
  "kernelspec": {
   "display_name": "base",
   "language": "python",
   "name": "python3"
  },
  "language_info": {
   "codemirror_mode": {
    "name": "ipython",
    "version": 3
   },
   "file_extension": ".py",
   "mimetype": "text/x-python",
   "name": "python",
   "nbconvert_exporter": "python",
   "pygments_lexer": "ipython3",
   "version": "3.12.7"
  }
 },
 "nbformat": 4,
 "nbformat_minor": 2
}
